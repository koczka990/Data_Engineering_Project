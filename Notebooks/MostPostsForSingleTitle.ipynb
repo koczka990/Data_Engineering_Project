{
 "cells": [
  {
   "cell_type": "code",
   "execution_count": null,
   "id": "3ffbbf46-4379-4ff2-bb37-8c270900cd39",
   "metadata": {},
   "outputs": [],
   "source": [
    "from pyspark.sql import SparkSession\n",
    "# Start spark session\n",
    "spark_session = SparkSession\\\n",
    "        .builder\\\n",
    "        .master(\"spark://spark-master:7077\") \\\n",
    "        .config(\"spark.dynamicAllocation.enabled\", True)\\\n",
    "        .config(\"spark.dynamicAllocation.shuffleTracking.enabled\",True)\\\n",
    "        .config(\"spark.shuffle.service.enabled\", False)\\\n",
    "        .config(\"spark.dynamicAllocation.executorIdleTimeout\",\"30s\")\\\n",
    "        .appName(\"MostPostsForaSingleTitle\") \\\n",
    "        .getOrCreate()"
   ]
  },
  {
   "cell_type": "code",
   "execution_count": null,
   "id": "d2c444f2-5686-46ca-bc84-ad182711e47a",
   "metadata": {},
   "outputs": [],
   "source": [
    "\n",
    "#Load the dataset\n",
    "reddit_data = spark.read.json(\"hdfs://130.238.28.120:9000/corpus-webis-tldr-17.json\")"
   ]
  },
  {
   "cell_type": "code",
   "execution_count": null,
   "id": "388e04db-8680-4cb5-90f6-8ca5537ae069",
   "metadata": {},
   "outputs": [],
   "source": [
    "##Change the title to lowercase , to handle the case senstivity\n",
    "reddit_data_updated = reddit_data.select(col(\"title\").lower().alias(\"updated_title\"))\n"
   ]
  },
  {
   "cell_type": "code",
   "execution_count": null,
   "id": "0cb0c210-0d3c-4381-b5df-73fb05e850f5",
   "metadata": {},
   "outputs": [],
   "source": [
    "#Group tiltes for a count\n",
    "count_title = reddit_data_updated.groupBy(\"updated_title\").count()\n"
   ]
  },
  {
   "cell_type": "code",
   "execution_count": null,
   "id": "70be0b0a-af46-42a8-a3aa-a096436cf833",
   "metadata": {},
   "outputs": [],
   "source": [
    "##Order the count in desc for finding the most used title\n",
    "most_posted_title = count_title.orderBy(col(\"count\").desc()).first()"
   ]
  },
  {
   "cell_type": "code",
   "execution_count": null,
   "id": "b4a6bd07-e7af-427e-b534-b6276d1c3a5b",
   "metadata": {},
   "outputs": [],
   "source": [
    "#Print the result \n",
    "print(\"The most posted title is:\", most_posted_title[\"updated_title\"])\n",
    "print(\"Number of posts with this title:\", most_posted_title[\"count\"])\n"
   ]
  },
  {
   "cell_type": "code",
   "execution_count": null,
   "id": "62255b95-603f-4bdf-b86e-e9b506341f66",
   "metadata": {},
   "outputs": [],
   "source": [
    "spark.stop()"
   ]
  }
 ],
 "metadata": {
  "kernelspec": {
   "display_name": "Python 3 (ipykernel)",
   "language": "python",
   "name": "python3"
  },
  "language_info": {
   "codemirror_mode": {
    "name": "ipython",
    "version": 3
   },
   "file_extension": ".py",
   "mimetype": "text/x-python",
   "name": "python",
   "nbconvert_exporter": "python",
   "pygments_lexer": "ipython3",
   "version": "3.11.6"
  }
 },
 "nbformat": 4,
 "nbformat_minor": 5
}
