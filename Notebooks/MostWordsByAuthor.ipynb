{
 "cells": [
  {
   "cell_type": "code",
   "execution_count": null,
   "id": "3bc16d21",
   "metadata": {},
   "outputs": [],
   "source": [
    "from pyspark.sql import SparkSession\n",
    "# Start spark session\n",
    "spark_session = SparkSession\\\n",
    "        .builder\\\n",
    "        .master(\"spark://spark-master:7077\") \\\n",
    "        .appName(\"MostWordsByAuthor\") \\\n",
    "        .getOrCreate()"
   ]
  },
  {
   "cell_type": "code",
   "execution_count": null,
   "id": "46ce2a41",
   "metadata": {},
   "outputs": [],
   "source": [
    "%%time    \n",
    "# Load reddit data from HDFS\n",
    "df = spark_session.read.json(\"hdfs://130.238.28.146:9000/corpus-webis-tldr-17.json\")"
   ]
  },
  {
   "cell_type": "code",
   "execution_count": null,
   "id": "03a8d7c1",
   "metadata": {},
   "outputs": [],
   "source": [
    "%%time\n",
    "from pyspark.sql.functions import col, sum as spark_sum, desc\n",
    "author_content_sum = df.groupBy(\"author\").agg(spark_sum(\"content_len\").alias(\"total_content_len\"))\n",
    "author_with_greatest_sum = author_content_sum.orderBy(desc(\"total_content_len\"))\n",
    "author_with_greatest_sum.take(10)\n",
    "#spark.stop()"
   ]
  }
 ],
 "metadata": {
  "kernelspec": {
   "display_name": "Python 3 (ipykernel)",
   "language": "python",
   "name": "python3"
  },
  "language_info": {
   "codemirror_mode": {
    "name": "ipython",
    "version": 3
   },
   "file_extension": ".py",
   "mimetype": "text/x-python",
   "name": "python",
   "nbconvert_exporter": "python",
   "pygments_lexer": "ipython3",
   "version": "3.10.13"
  }
 },
 "nbformat": 4,
 "nbformat_minor": 5
}
