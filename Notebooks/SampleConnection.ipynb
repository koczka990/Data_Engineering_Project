{
 "cells": [
  {
   "cell_type": "code",
   "execution_count": null,
   "id": "cd519118",
   "metadata": {},
   "outputs": [],
   "source": [
    "from pyspark.sql import SparkSession\n",
    "# Start spark session\n",
    "spark_session = SparkSession\\\n",
    "        .builder\\\n",
    "        .master(\"spark://spark-master:7077\") \\\n",
    "        .appName(\"Sample\") \\\n",
    "        .getOrCreate()"
   ]
  },
  {
   "cell_type": "code",
   "execution_count": null,
   "id": "05105c2b",
   "metadata": {},
   "outputs": [],
   "source": [
    "# Load reddit data from HDFS\n",
    "df = spark_session.read.json(\"hdfs://130.238.28.146:9000/corpus-webis-tldr-17.json\")"
   ]
  },
  {
   "cell_type": "code",
   "execution_count": null,
   "id": "8e018658",
   "metadata": {},
   "outputs": [],
   "source": [
    "#Count the number of authers\n",
    "unique_authors = df.select(\"author\").distinct()\n",
    "num_authors = unique_authors.count()\n",
    "print(\"Number of unique authors:\", num_authors)\n",
    "spark_session.stop()"
   ]
  }
 ],
 "metadata": {
  "kernelspec": {
   "display_name": "Python 3 (ipykernel)",
   "language": "python",
   "name": "python3"
  },
  "language_info": {
   "codemirror_mode": {
    "name": "ipython",
    "version": 3
   },
   "file_extension": ".py",
   "mimetype": "text/x-python",
   "name": "python",
   "nbconvert_exporter": "python",
   "pygments_lexer": "ipython3",
   "version": "3.10.13"
  }
 },
 "nbformat": 4,
 "nbformat_minor": 5
}
